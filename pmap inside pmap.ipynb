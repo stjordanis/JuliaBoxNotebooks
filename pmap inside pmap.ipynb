{
 "cells": [
  {
   "cell_type": "code",
   "execution_count": 1,
   "metadata": {},
   "outputs": [
    {
     "data": {
      "text/plain": [
       "6-element Array{Int64,1}:\n",
       " 2\n",
       " 3\n",
       " 4\n",
       " 5\n",
       " 6\n",
       " 7"
      ]
     },
     "execution_count": 1,
     "metadata": {},
     "output_type": "execute_result"
    }
   ],
   "source": [
    "addprocs(6)"
   ]
  },
  {
   "cell_type": "code",
   "execution_count": 2,
   "metadata": {},
   "outputs": [
    {
     "name": "stdout",
     "output_type": "stream",
     "text": [
      "  3.098323 seconds (623.34 k allocations: 33.245 MiB, 0.85% gc time)\n",
      "  4.037707 seconds (351 allocations: 48.375 KiB)\n"
     ]
    }
   ],
   "source": [
    "# define a slow function\n",
    "@everywhere slow(n) = (sleep(n); sum(rand(n)))\n",
    "\n",
    "# force compilation\n",
    "@everywhere slow(1)  \n",
    "\n",
    "# should take ~2 seconds \n",
    "@time pmap(slow, [2,2,2,2]);\n",
    "\n",
    "# define a new function that run pmaps on the slow function\n",
    "@everywhere pp(n) = (sleep(n); pmap(slow, [n for _ in 1:n]))\n",
    "\n",
    "# force compilation\n",
    "@everywhere pp(1)  \n",
    "\n",
    "# single invocation: 2 + 2 => 4\n",
    "@time pp(2);"
   ]
  },
  {
   "cell_type": "code",
   "execution_count": 3,
   "metadata": {},
   "outputs": [
    {
     "name": "stdout",
     "output_type": "stream",
     "text": [
      "  4.250248 seconds (32.58 k allocations: 1.783 MiB)\n",
      "  4.082139 seconds (2.12 k allocations: 191.594 KiB)\n",
      "  4.211557 seconds (2.15 k allocations: 305.766 KiB)\n",
      "  4.056727 seconds (2.13 k allocations: 192.469 KiB)\n",
      "  4.011695 seconds (2.14 k allocations: 187.969 KiB)\n",
      "  4.087909 seconds (2.15 k allocations: 210.422 KiB)\n",
      "  4.125222 seconds (2.14 k allocations: 159.734 KiB)\n",
      "  4.011305 seconds (2.14 k allocations: 177.625 KiB)\n",
      "  4.060522 seconds (2.14 k allocations: 199.766 KiB)\n",
      "  4.011646 seconds (2.14 k allocations: 148.813 KiB)\n"
     ]
    }
   ],
   "source": [
    "for i in 1:10\n",
    "    @time pmap(pp, [2,2]);\n",
    "end"
   ]
  },
  {
   "cell_type": "code",
   "execution_count": null,
   "metadata": {},
   "outputs": [],
   "source": []
  }
 ],
 "metadata": {
  "kernelspec": {
   "display_name": "Julia 0.6.2",
   "language": "julia",
   "name": "julia-0.6"
  },
  "language_info": {
   "file_extension": ".jl",
   "mimetype": "application/julia",
   "name": "julia",
   "version": "0.6.2"
  }
 },
 "nbformat": 4,
 "nbformat_minor": 2
}
